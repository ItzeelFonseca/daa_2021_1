{
  "nbformat": 4,
  "nbformat_minor": 0,
  "metadata": {
    "colab": {
      "name": "25Noviembre.ipynb",
      "provenance": [],
      "authorship_tag": "ABX9TyNeDWb7vLdsCMEAW/o8tyYA",
      "include_colab_link": true
    },
    "kernelspec": {
      "name": "python3",
      "display_name": "Python 3"
    }
  },
  "cells": [
    {
      "cell_type": "markdown",
      "metadata": {
        "id": "view-in-github",
        "colab_type": "text"
      },
      "source": [
        "<a href=\"https://colab.research.google.com/github/ItzeelFonseca/daa_2021_1/blob/master/25Noviembre.ipynb\" target=\"_parent\"><img src=\"https://colab.research.google.com/assets/colab-badge.svg\" alt=\"Open In Colab\"/></a>"
      ]
    },
    {
      "cell_type": "markdown",
      "metadata": {
        "id": "qgGIoWqj-0V2"
      },
      "source": [
        "# Conteo Frase UNAM"
      ]
    },
    {
      "cell_type": "code",
      "metadata": {
        "colab": {
          "base_uri": "https://localhost:8080/"
        },
        "id": "lzUbJdfS47ex",
        "outputId": "d96a28a0-927e-44a2-d727-2495cecb2fe4"
      },
      "source": [
        "frase =\"\"\"El lema que anima a la Universidad Nacional, Por mi raza hablará el espíritu, revela la vocación humanística con la que fue concebida. El autor de esta célebre frase, José Vasconcelos, asumió la rectoría en 1920, en una época en que las esperanzas de la Revolución aún estaban vivas,\n",
        " había una gran fe en la Patria y el ánimo redentor se extendía en el ambiente.\"\"\"\n",
        "\n",
        "frase= frase.strip().replace(\"\\n\",\"\").replace(\".\",\"\").replace(\",\",\"\").lower().split(\" \")\n",
        "#print(frase)\n",
        "frecuencias = {}\n",
        "for index in range (len(frase)):\n",
        "    if frase[index] in frecuencias:\n",
        "      pass\n",
        "    else:\n",
        "      frecuencias[frase[index]] = 1\n",
        "    \n",
        "      for pivote in range (index +1,len(frase),1):\n",
        "      #print(frase[index].strip(),  \"Comparada contra: \" , frase[pivote].strip())\n",
        "        if frase[index] == frase[pivote]:\n",
        "          frecuencias [frase[index]] += 1\n",
        "print(frecuencias)"
      ],
      "execution_count": 14,
      "outputs": [
        {
          "output_type": "stream",
          "text": [
            "{'el': 5, 'lema': 1, 'que': 3, 'anima': 1, 'a': 1, 'la': 6, 'universidad': 1, 'nacional': 1, 'por': 1, 'mi': 1, 'raza': 1, 'hablará': 1, 'espíritu': 1, 'revela': 1, 'vocación': 1, 'humanística': 1, 'con': 1, 'fue': 1, 'concebida': 1, 'autor': 1, 'de': 2, 'esta': 1, 'célebre': 1, 'frase': 1, 'josé': 1, 'vasconcelos': 1, 'asumió': 1, 'rectoría': 1, 'en': 5, '1920': 1, 'una': 2, 'época': 1, 'las': 1, 'esperanzas': 1, 'revolución': 1, 'aún': 1, 'estaban': 1, 'vivas': 1, 'había': 1, 'gran': 1, 'fe': 1, 'patria': 1, 'y': 1, 'ánimo': 1, 'redentor': 1, 'se': 1, 'extendía': 1, 'ambiente': 1}\n"
          ],
          "name": "stdout"
        }
      ]
    },
    {
      "cell_type": "markdown",
      "metadata": {
        "id": "4rZblae0ATIk"
      },
      "source": [
        "# Ejemplo hash"
      ]
    },
    {
      "cell_type": "code",
      "metadata": {
        "colab": {
          "base_uri": "https://localhost:8080/"
        },
        "id": "Oi5jTMlj_XfE",
        "outputId": "998ac940-75b7-4dcb-9e6a-92c0b1906bf8"
      },
      "source": [
        "palabra = 'hola'\n",
        "print(hash(palabra))\n",
        "palabra = 'hole'\n",
        "print(hash(palabra))\n"
      ],
      "execution_count": 25,
      "outputs": [
        {
          "output_type": "stream",
          "text": [
            "-1861559863009334318\n",
            "5111782663259945661\n"
          ],
          "name": "stdout"
        }
      ]
    },
    {
      "cell_type": "markdown",
      "metadata": {
        "id": "4O_Xt7UoGiu0"
      },
      "source": [
        "# Ejemplo Frase hash"
      ]
    },
    {
      "cell_type": "code",
      "metadata": {
        "colab": {
          "base_uri": "https://localhost:8080/"
        },
        "id": "p-jBux9sFwz7",
        "outputId": "77afc454-d280-4374-ab6b-3b35bde0c55d"
      },
      "source": [
        "frase =\"\"\"El lema que anima a la Universidad Nacional, Por mi raza hablará el espíritu, revela la vocación humanística con la que fue concebida. El autor de esta célebre frase, José Vasconcelos, asumió la rectoría en 1920, en una época en que las esperanzas de la Revolución aún estaban vivas,\n",
        " había una gran fe en la Patria y el ánimo redentor se extendía en el ambiente.\"\"\"\n",
        "\n",
        "frase= frase.strip().replace(\"\\n\",\"\").replace(\".\",\"\").replace(\",\",\"\").lower().split(\" \")\n",
        "print(frase)\n",
        "frecuencias = {}\n",
        "for index in range (len(frase)):\n",
        "    print(hash(frase[index]))\n",
        "    if frase[index] in frecuencias:\n",
        "      frecuencias[frase[index]] += 1\n",
        "    else:\n",
        "      frecuencias[frase[index]] = 1\n",
        "print(frecuencias)"
      ],
      "execution_count": 28,
      "outputs": [
        {
          "output_type": "stream",
          "text": [
            "['el', 'lema', 'que', 'anima', 'a', 'la', 'universidad', 'nacional', 'por', 'mi', 'raza', 'hablará', 'el', 'espíritu', 'revela', 'la', 'vocación', 'humanística', 'con', 'la', 'que', 'fue', 'concebida', 'el', 'autor', 'de', 'esta', 'célebre', 'frase', 'josé', 'vasconcelos', 'asumió', 'la', 'rectoría', 'en', '1920', 'en', 'una', 'época', 'en', 'que', 'las', 'esperanzas', 'de', 'la', 'revolución', 'aún', 'estaban', 'vivas', 'había', 'una', 'gran', 'fe', 'en', 'la', 'patria', 'y', 'el', 'ánimo', 'redentor', 'se', 'extendía', 'en', 'el', 'ambiente']\n",
            "8226855486033680364\n",
            "-6004636954908466874\n",
            "7234417260860737952\n",
            "1352552817927439866\n",
            "-8612189565498952315\n",
            "-7107539445759326264\n",
            "2389386741955470847\n",
            "-7279862260463357465\n",
            "-3265803307351152631\n",
            "6814992443266376754\n",
            "-6831574359777683024\n",
            "-8196472371050453105\n",
            "8226855486033680364\n",
            "-8793977706733851398\n",
            "7341168508218961928\n",
            "-7107539445759326264\n",
            "1524928990446205737\n",
            "3638681473803510275\n",
            "-7300406292555571328\n",
            "-7107539445759326264\n",
            "7234417260860737952\n",
            "-568484693553862569\n",
            "-4435431991668433164\n",
            "8226855486033680364\n",
            "7352544565661737754\n",
            "-2916201877173518221\n",
            "3131310027503933577\n",
            "-6992653995083036141\n",
            "3386986143463929567\n",
            "2396208077986033914\n",
            "-4231701324435116642\n",
            "420415438428177574\n",
            "-7107539445759326264\n",
            "1888510538943446762\n",
            "-4271834990177614021\n",
            "5204214665490391757\n",
            "-4271834990177614021\n",
            "-3340916609037729775\n",
            "-99749176836995141\n",
            "-4271834990177614021\n",
            "7234417260860737952\n",
            "1407027549812206843\n",
            "2024506371996748896\n",
            "-2916201877173518221\n",
            "-7107539445759326264\n",
            "-2356455047435214551\n",
            "199029263017216735\n",
            "3300368407452102226\n",
            "-9013443848012669235\n",
            "5352797843012256357\n",
            "-3340916609037729775\n",
            "4075874780145921819\n",
            "-5231359251721252319\n",
            "-4271834990177614021\n",
            "-7107539445759326264\n",
            "-6610324468144832850\n",
            "-6959489640713513449\n",
            "8226855486033680364\n",
            "-8745736673077323396\n",
            "4432604266912758588\n",
            "1513494408376942364\n",
            "-5449574871530545033\n",
            "-4271834990177614021\n",
            "8226855486033680364\n",
            "8567056502003434018\n",
            "{'el': 5, 'lema': 1, 'que': 3, 'anima': 1, 'a': 1, 'la': 6, 'universidad': 1, 'nacional': 1, 'por': 1, 'mi': 1, 'raza': 1, 'hablará': 1, 'espíritu': 1, 'revela': 1, 'vocación': 1, 'humanística': 1, 'con': 1, 'fue': 1, 'concebida': 1, 'autor': 1, 'de': 2, 'esta': 1, 'célebre': 1, 'frase': 1, 'josé': 1, 'vasconcelos': 1, 'asumió': 1, 'rectoría': 1, 'en': 5, '1920': 1, 'una': 2, 'época': 1, 'las': 1, 'esperanzas': 1, 'revolución': 1, 'aún': 1, 'estaban': 1, 'vivas': 1, 'había': 1, 'gran': 1, 'fe': 1, 'patria': 1, 'y': 1, 'ánimo': 1, 'redentor': 1, 'se': 1, 'extendía': 1, 'ambiente': 1}\n"
          ],
          "name": "stdout"
        }
      ]
    }
  ]
}