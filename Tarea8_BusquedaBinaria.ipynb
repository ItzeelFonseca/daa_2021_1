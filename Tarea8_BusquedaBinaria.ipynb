{
  "nbformat": 4,
  "nbformat_minor": 0,
  "metadata": {
    "colab": {
      "name": "Tarea8.BusquedaBinaria.ipynb",
      "provenance": [],
      "authorship_tag": "ABX9TyN3UZ+722XYEswgSilI4r5u",
      "include_colab_link": true
    },
    "kernelspec": {
      "name": "python3",
      "display_name": "Python 3"
    }
  },
  "cells": [
    {
      "cell_type": "markdown",
      "metadata": {
        "id": "view-in-github",
        "colab_type": "text"
      },
      "source": [
        "<a href=\"https://colab.research.google.com/github/ItzeelFonseca/daa_2021_1/blob/master/Tarea8_BusquedaBinaria.ipynb\" target=\"_parent\"><img src=\"https://colab.research.google.com/assets/colab-badge.svg\" alt=\"Open In Colab\"/></a>"
      ]
    },
    {
      "cell_type": "code",
      "metadata": {
        "id": "cgwoOdGCtmgu"
      },
      "source": [
        "def busbin(bd,busca):\r\n",
        "  i=len(bd)//2\r\n",
        "  if len(bd)==0:\r\n",
        "    print(\"No existe\")\r\n",
        "    return i\r\n",
        "  if bd[i].get('id')== busca:\r\n",
        "    print(\"Nombre: \",bd[i].get('nombre'),\"\\nEstudia: \",bd[i].get('carrera'), \"\\nCon promedio de:\",bd[i].get('promedio'))\r\n",
        "  elif bd[i].get('id') > busca:\r\n",
        "    busbin(bd[:i], busca)\r\n",
        "  elif bd[i].get('id') < busca:\r\n",
        "    busbin(bd[i+1:], busca)\r\n",
        "\r\n",
        "alumno1={'id':2, 'nombre':\"Juan\" , 'carrera':\"ICO\", 'promedio':7.67}\r\n",
        "alumno2={'id':4, 'nombre':\"Rocio\" , 'carrera':\"ICI\", 'promedio':8.67}\r\n",
        "alumno3={'id':5, 'nombre':\"Diego\" , 'carrera':\"DER\", 'promedio':8.98}\r\n",
        "alumno4={'id':7, 'nombre':\"May\" , 'carrera':\"ICI\", 'promedio':9.87}\r\n",
        "alumno5={'id':9, 'nombre':\"Rob\" , 'carrera':\"IME\", 'promedio':10.00}\r\n",
        "alumno6={'id':10, 'nombre':\"Santi\" , 'carrera':\"ICO\", 'promedio':5.37}\r\n",
        "alumno7={'id':14, 'nombre':\"Moy\" , 'carrera':\"IME\", 'promedio':6.85}\r\n",
        "alumno8={'id':16, 'nombre':\"Diana\" , 'carrera':\"DER\", 'promedio':9.99}\r\n",
        "alumno9={'id':19, 'nombre':\"Zoila\" , 'carrera':\"ICO\", 'promedio':8.22}\r\n",
        "alumno10={'id':22, 'nombre':\"Armando\" , 'carrera':\"ICO\", 'promedio':7.32}\r\n",
        "\r\n",
        "bd = []\r\n",
        "bd.append(alumno1)\r\n",
        "bd.append(alumno2)\r\n",
        "bd.append(alumno3)\r\n",
        "bd.append(alumno4)\r\n",
        "bd.append(alumno5)\r\n",
        "bd.append(alumno6)\r\n",
        "bd.append(alumno7)\r\n",
        "bd.append(alumno8)\r\n",
        "bd.append(alumno9)\r\n",
        "bd.append(alumno10)\r\n",
        "#print(bd)"
      ],
      "execution_count": 38,
      "outputs": []
    },
    {
      "cell_type": "code",
      "metadata": {
        "colab": {
          "base_uri": "https://localhost:8080/"
        },
        "id": "6W9HdRjLxOG5",
        "outputId": "9fa56ab8-7bd3-4414-dc8f-3cf7716bb379"
      },
      "source": [
        "busbin(bd,2)\r\n",
        "busbin(bd,4)\r\n",
        "busbin(bd,5)\r\n",
        "busbin(bd,7)\r\n",
        "busbin(bd,9)\r\n",
        "busbin(bd,10)\r\n",
        "busbin(bd,14)\r\n",
        "busbin(bd,16)\r\n",
        "busbin(bd,19)\r\n",
        "busbin(bd,22)\r\n",
        "\r\n",
        "#Casos que no existen\r\n",
        "\r\n",
        "busbin(bd,0) \r\n",
        "busbin(bd,3)"
      ],
      "execution_count": 37,
      "outputs": [
        {
          "output_type": "stream",
          "text": [
            "Nombre:  Juan \n",
            "Estudia:  ICO \n",
            "Con promedio de: 7.67\n",
            "Nombre:  Rocio \n",
            "Estudia:  ICI \n",
            "Con promedio de: 8.67\n",
            "Nombre:  Diego \n",
            "Estudia:  DER \n",
            "Con promedio de: 8.98\n",
            "Nombre:  May \n",
            "Estudia:  ICI \n",
            "Con promedio de: 9.87\n",
            "Nombre:  Rob \n",
            "Estudia:  IME \n",
            "Con promedio de: 10.0\n",
            "Nombre:  Santi \n",
            "Estudia:  ICO \n",
            "Con promedio de: 5.37\n",
            "Nombre:  Moy \n",
            "Estudia:  IME \n",
            "Con promedio de: 6.85\n",
            "Nombre:  Diana \n",
            "Estudia:  DER \n",
            "Con promedio de: 9.99\n",
            "Nombre:  Zoila \n",
            "Estudia:  ICO \n",
            "Con promedio de: 8.22\n",
            "Nombre:  Armando \n",
            "Estudia:  ICO \n",
            "Con promedio de: 7.32\n",
            "No existe\n",
            "No existe\n"
          ],
          "name": "stdout"
        }
      ]
    }
  ]
}