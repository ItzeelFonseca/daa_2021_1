{
  "nbformat": 4,
  "nbformat_minor": 0,
  "metadata": {
    "colab": {
      "name": "07Octubre.ipynb",
      "provenance": [],
      "authorship_tag": "ABX9TyOejVuCpw1GdmewT4piSjvd",
      "include_colab_link": true
    },
    "kernelspec": {
      "name": "python3",
      "display_name": "Python 3"
    }
  },
  "cells": [
    {
      "cell_type": "markdown",
      "metadata": {
        "id": "view-in-github",
        "colab_type": "text"
      },
      "source": [
        "<a href=\"https://colab.research.google.com/github/ItzeelFonseca/daa_2021_1/blob/master/07Octubre.ipynb\" target=\"_parent\"><img src=\"https://colab.research.google.com/assets/colab-badge.svg\" alt=\"Open In Colab\"/></a>"
      ]
    },
    {
      "cell_type": "markdown",
      "metadata": {
        "id": "flgEFT12SrBV"
      },
      "source": [
        "# Busqueda Lineal\n",
        "Dada un conjunto de datos no ordenados, la busqueda lineal consiste en recorrer el conjunto de datos desde el inicio al final,moviendose de uno en uno hasta encontrar el elemento o llegar al final del conjunto.\n",
        "\n",
        "datos = [ 4,18,47,2,34,14,78,12,48,21,31,19,1,3,5]\n",
        "\n",
        "# Búsqueda binaria\n",
        "Funciona sobre un conjunto de datos lineal ordenado.\n",
        "Consiste en dividir el conjunto en mitades y buscar en esa mitad. Si el elemento buscado no está en la mitad, preguntas si el elemento está a la derecha o a la izquierda.\n",
        "Haces la lista igual a la mitad correspondiente y repites el proceso.\n",
        "\n",
        "L = [1, 2, 3, 4, 5, 12, 14, 18, 19, 21, 31, 34, 47, 48, 78] \n",
        "\n",
        "DER = longitud (L)-1\n",
        "\n",
        "IZQ = 0\n",
        "\n",
        "MID apuntará a la mitad del segmento de busqueda\n",
        "\n",
        "buscado: es el valor a buscar (47)\n",
        "\n",
        "1. Hacer DER = longitud (L)-1\n",
        "2. Hacer IZQ = 0\n",
        "3. Si IZQ > DER significa que hay un error en los datos \n",
        "4. Calcular MID = int( (IQZ + DER)/2)\n",
        "5. Mientras L [MID] != buscado hacer\n",
        "6.     - preguntar L[MID] > buscado\n",
        "            - hacer DER = mid\n",
        "       - de lo contrario\n",
        "            - hacer IQZ = mid\n",
        "       - preguntar (DER - IZQ)%2 == 0\n",
        "            - MID = ( IZQ + ((DER - IZQ)/2))+1\n",
        "       - de lo contrario\n",
        "            - MID = IZQ + ((DER - IZQ)/ 2)\n",
        "7. return MID"
      ]
    },
    {
      "cell_type": "code",
      "metadata": {
        "id": "TcndpctoSlKE",
        "outputId": "237d9373-3d03-4d78-8657-3979c91acc01",
        "colab": {
          "base_uri": "https://localhost:8080/",
          "height": 476
        }
      },
      "source": [
        "\"\"\"\n",
        "Busqueda lineal \n",
        "regresa la posicion del elemento 'buscado' si se encuentra dentro de la lista.\n",
        "regresa -1 si el elemento buscado no existe dentro de la lista.\n",
        "\"\"\"\n",
        "def busq_lineal(L, buscado): \n",
        "  indice = -1\n",
        "  contador = 0\n",
        "  for idx in range (len(L)):\n",
        "    contador += 1\n",
        "    if L[idx] == buscado:\n",
        "      indice = idx\n",
        "      break\n",
        "  print(f\"numero de comparaciones realizadas= {contador}\")\n",
        "  return indice\n",
        "\n",
        "\"\"\"\n",
        "Busqueda binaria\n",
        "\"\"\"\n",
        "def busqueda_binaria( L , buscado):\n",
        "  IZQ = 0\n",
        "  DER = len(L)-1\n",
        "  MID = int ((IZQ + DER) // 2)\n",
        "  if len(L) % 2 == 0:\n",
        "    MID = (DER/2)+1\n",
        "  else:\n",
        "      MID = DER//2\n",
        "  while(L[MID] != buscado):\n",
        "      if L[MID] > buscado:\n",
        "        DER = MID\n",
        "      else: \n",
        "        IZQ = MID\n",
        "      if (DER - IZQ) % 2 == 0:\n",
        "        MID = (IZQ + ((DER - IZQ)//2))+1\n",
        "      else:\n",
        "        MID = IZQ + ((DER - IZQ)//2) -1\n",
        "  return MID\n",
        "\n",
        "def main():\n",
        "  datos = [ 4,18,47,2,34,14,78,12,48,21,31,19,1,3,5]\n",
        "  dato = int (input(\"Qué valor quieres buscar: \"))\n",
        "  resultado = busq_lineal(datos , dato)\n",
        "  print(\"Resultado: \",resultado)\n",
        "\n",
        "  print(\"Busqueda lineal en una lista ordenada\")\n",
        "  datos.sort()\n",
        "  print(datos)\n",
        "  resultado = busq_lineal(datos , dato)\n",
        "  print(\"Resultado: \",resultado)\n",
        "\n",
        "  print(\"Busqueda binaria\")\n",
        "  posicion = busqueda_binaria(dato, 47)\n",
        "  print(f\"El elemento (dato) está en la posición (posicion) de la lista\")\n",
        "\n",
        "main()"
      ],
      "execution_count": 11,
      "outputs": [
        {
          "output_type": "stream",
          "text": [
            "Qué valor quieres buscar: 3\n",
            "numero de comparaciones realizadas= 14\n",
            "Resultado:  13\n",
            "Busqueda lineal en una lista ordenada\n",
            "[1, 2, 3, 4, 5, 12, 14, 18, 19, 21, 31, 34, 47, 48, 78]\n",
            "numero de comparaciones realizadas= 3\n",
            "Resultado:  2\n",
            "Busqueda binaria\n"
          ],
          "name": "stdout"
        },
        {
          "output_type": "error",
          "ename": "TypeError",
          "evalue": "ignored",
          "traceback": [
            "\u001b[0;31m---------------------------------------------------------------------------\u001b[0m",
            "\u001b[0;31mTypeError\u001b[0m                                 Traceback (most recent call last)",
            "\u001b[0;32m<ipython-input-11-c3f46179c1af>\u001b[0m in \u001b[0;36m<module>\u001b[0;34m()\u001b[0m\n\u001b[1;32m     53\u001b[0m   \u001b[0mprint\u001b[0m\u001b[0;34m(\u001b[0m\u001b[0;34mf\"El elemento (dato) está en la posición (posicion) de la lista\"\u001b[0m\u001b[0;34m)\u001b[0m\u001b[0;34m\u001b[0m\u001b[0;34m\u001b[0m\u001b[0m\n\u001b[1;32m     54\u001b[0m \u001b[0;34m\u001b[0m\u001b[0m\n\u001b[0;32m---> 55\u001b[0;31m \u001b[0mmain\u001b[0m\u001b[0;34m(\u001b[0m\u001b[0;34m)\u001b[0m\u001b[0;34m\u001b[0m\u001b[0;34m\u001b[0m\u001b[0m\n\u001b[0m",
            "\u001b[0;32m<ipython-input-11-c3f46179c1af>\u001b[0m in \u001b[0;36mmain\u001b[0;34m()\u001b[0m\n\u001b[1;32m     50\u001b[0m \u001b[0;34m\u001b[0m\u001b[0m\n\u001b[1;32m     51\u001b[0m   \u001b[0mprint\u001b[0m\u001b[0;34m(\u001b[0m\u001b[0;34m\"Busqueda binaria\"\u001b[0m\u001b[0;34m)\u001b[0m\u001b[0;34m\u001b[0m\u001b[0;34m\u001b[0m\u001b[0m\n\u001b[0;32m---> 52\u001b[0;31m   \u001b[0mposicion\u001b[0m \u001b[0;34m=\u001b[0m \u001b[0mbusqueda_binaria\u001b[0m\u001b[0;34m(\u001b[0m\u001b[0mdato\u001b[0m\u001b[0;34m,\u001b[0m \u001b[0;36m47\u001b[0m\u001b[0;34m)\u001b[0m\u001b[0;34m\u001b[0m\u001b[0;34m\u001b[0m\u001b[0m\n\u001b[0m\u001b[1;32m     53\u001b[0m   \u001b[0mprint\u001b[0m\u001b[0;34m(\u001b[0m\u001b[0;34mf\"El elemento (dato) está en la posición (posicion) de la lista\"\u001b[0m\u001b[0;34m)\u001b[0m\u001b[0;34m\u001b[0m\u001b[0;34m\u001b[0m\u001b[0m\n\u001b[1;32m     54\u001b[0m \u001b[0;34m\u001b[0m\u001b[0m\n",
            "\u001b[0;32m<ipython-input-11-c3f46179c1af>\u001b[0m in \u001b[0;36mbusqueda_binaria\u001b[0;34m(L, buscado)\u001b[0m\n\u001b[1;32m     20\u001b[0m \u001b[0;32mdef\u001b[0m \u001b[0mbusqueda_binaria\u001b[0m\u001b[0;34m(\u001b[0m \u001b[0mL\u001b[0m \u001b[0;34m,\u001b[0m \u001b[0mbuscado\u001b[0m\u001b[0;34m)\u001b[0m\u001b[0;34m:\u001b[0m\u001b[0;34m\u001b[0m\u001b[0;34m\u001b[0m\u001b[0m\n\u001b[1;32m     21\u001b[0m   \u001b[0mIZQ\u001b[0m \u001b[0;34m=\u001b[0m \u001b[0;36m0\u001b[0m\u001b[0;34m\u001b[0m\u001b[0;34m\u001b[0m\u001b[0m\n\u001b[0;32m---> 22\u001b[0;31m   \u001b[0mDER\u001b[0m \u001b[0;34m=\u001b[0m \u001b[0mlen\u001b[0m\u001b[0;34m(\u001b[0m\u001b[0mL\u001b[0m\u001b[0;34m)\u001b[0m\u001b[0;34m-\u001b[0m\u001b[0;36m1\u001b[0m\u001b[0;34m\u001b[0m\u001b[0;34m\u001b[0m\u001b[0m\n\u001b[0m\u001b[1;32m     23\u001b[0m   \u001b[0mMID\u001b[0m \u001b[0;34m=\u001b[0m \u001b[0mint\u001b[0m \u001b[0;34m(\u001b[0m\u001b[0;34m(\u001b[0m\u001b[0mIZQ\u001b[0m \u001b[0;34m+\u001b[0m \u001b[0mDER\u001b[0m\u001b[0;34m)\u001b[0m \u001b[0;34m//\u001b[0m \u001b[0;36m2\u001b[0m\u001b[0;34m)\u001b[0m\u001b[0;34m\u001b[0m\u001b[0;34m\u001b[0m\u001b[0m\n\u001b[1;32m     24\u001b[0m   \u001b[0;32mif\u001b[0m \u001b[0mlen\u001b[0m\u001b[0;34m(\u001b[0m\u001b[0mL\u001b[0m\u001b[0;34m)\u001b[0m \u001b[0;34m%\u001b[0m \u001b[0;36m2\u001b[0m \u001b[0;34m==\u001b[0m \u001b[0;36m0\u001b[0m\u001b[0;34m:\u001b[0m\u001b[0;34m\u001b[0m\u001b[0;34m\u001b[0m\u001b[0m\n",
            "\u001b[0;31mTypeError\u001b[0m: object of type 'int' has no len()"
          ]
        }
      ]
    }
  ]
}