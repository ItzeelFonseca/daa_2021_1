{
  "nbformat": 4,
  "nbformat_minor": 0,
  "metadata": {
    "colab": {
      "name": "5Octubre.ipynb",
      "provenance": [],
      "authorship_tag": "ABX9TyN3TYAbqIViojPPSL1LvEor",
      "include_colab_link": true
    },
    "kernelspec": {
      "name": "python3",
      "display_name": "Python 3"
    }
  },
  "cells": [
    {
      "cell_type": "markdown",
      "metadata": {
        "id": "view-in-github",
        "colab_type": "text"
      },
      "source": [
        "<a href=\"https://colab.research.google.com/github/ItzeelFonseca/daa_2021_1/blob/master/5Octubre.ipynb\" target=\"_parent\"><img src=\"https://colab.research.google.com/assets/colab-badge.svg\" alt=\"Open In Colab\"/></a>"
      ]
    },
    {
      "cell_type": "markdown",
      "metadata": {
        "id": "ByDe87ogACK0"
      },
      "source": [
        "#Estructuras de datos Pila (Stack)\n",
        "- LIFO - Last In First Out (el ultimo en entrar es el primero en salir)\n",
        "- Son de tipo lineal\n",
        "- Se pueden ingresar datos desde el tope\n",
        "- Push para agregar\n",
        "- Pop para sacar\n",
        "##Operaciones de las Pilas\n",
        "\n",
        "- is_empty (Regresa true o false)\n",
        "- get_top (regresa el elemento en el tope -*sin sacarlo*-)\n",
        "- pop (saca el elemento del tope y lo regresa)\n",
        "- push (mete un elemento en el tope) \n",
        "- get_length (regresa el numero de elementos de la pila)"
      ]
    },
    {
      "cell_type": "code",
      "metadata": {
        "id": "LUYxy35j_ib8"
      },
      "source": [
        "class Stack:\n",
        "  def __init__(self):\n",
        "    self.__datos=[]\n",
        "  \n",
        "  def is_empty(self):\n",
        "    return len(self.__datos)== 0\n",
        "  \n",
        "  def get_top(self):\n",
        "    return self.__datos[-1]\n",
        "\n",
        "  def pop (self):\n",
        "    return self.__datos.pop()\n",
        "  \n",
        "  def push (self, valor):\n",
        "    self.__datos.append(valor)\n",
        "\n",
        "  def get_lenght(self):\n",
        "    return len(self.__datos)\n",
        "\n",
        "  def to_string(self):\n",
        "    for ele in self.__datos [-1;;-1]:\n",
        "      print(f\" { ele } \")\n"
      ],
      "execution_count": 6,
      "outputs": []
    },
    {
      "cell_type": "code",
      "metadata": {
        "id": "VAgN2QiNILUt"
      },
      "source": [
        "pila1= Stack()\n"
      ],
      "execution_count": null,
      "outputs": []
    },
    {
      "cell_type": "markdown",
      "metadata": {
        "id": "1Uqduwg8IyyL"
      },
      "source": [
        "# Ejemplo de aplicacion de pilas \n",
        "x = 4 + 5 + 6 + 3\n",
        "x = 4 + (5 + 6) + 3\n",
        "x = 4 + 5 + 6) + 3\n",
        "if (a==b) {System.out.println(b)\n",
        "if (a==b) { System.out.println(b)\n",
        "\n",
        "# reglas\n",
        "### \"(\" --> push ('@')\n",
        "### \")\" --> pop ()\n",
        "Si al final del recorrido la pila esta vacia entonces la cadena es correcta.\n",
        "Si en un top desencadena el querer sacar un elemento de la pila vacia significa que la cadena no está balanceada.\n"
      ]
    }
  ]
}