{
  "nbformat": 4,
  "nbformat_minor": 0,
  "metadata": {
    "colab": {
      "name": "2Diciembre.ipynb",
      "provenance": [],
      "authorship_tag": "ABX9TyNOI7c7MEapMqaAPwq5f4bG",
      "include_colab_link": true
    },
    "kernelspec": {
      "name": "python3",
      "display_name": "Python 3"
    }
  },
  "cells": [
    {
      "cell_type": "markdown",
      "metadata": {
        "id": "view-in-github",
        "colab_type": "text"
      },
      "source": [
        "<a href=\"https://colab.research.google.com/github/ItzeelFonseca/daa_2021_1/blob/master/2Diciembre.ipynb\" target=\"_parent\"><img src=\"https://colab.research.google.com/assets/colab-badge.svg\" alt=\"Open In Colab\"/></a>"
      ]
    },
    {
      "cell_type": "code",
      "metadata": {
        "id": "KwU2_So3_hdY"
      },
      "source": [
        "def fnRecInfinita():\n",
        "  print(\"Hola\")\n",
        "  fnRecInfinita()"
      ],
      "execution_count": null,
      "outputs": []
    },
    {
      "cell_type": "code",
      "metadata": {
        "id": "4y4VLSonAWUF"
      },
      "source": [
        "fnRecInfinita()"
      ],
      "execution_count": null,
      "outputs": []
    },
    {
      "cell_type": "code",
      "metadata": {
        "colab": {
          "base_uri": "https://localhost:8080/"
        },
        "id": "lZipinmxAYvH",
        "outputId": "1ba3a1c6-659e-4697-805f-18cd52adf513"
      },
      "source": [
        "def fnRec( x ):\n",
        "  if x == 0:\n",
        "    print(\"Stop\")\n",
        "  else:\n",
        "    fnRec( x - 1)\n",
        "    print( x )\n",
        "def main():\n",
        "    print(\"Inicio del programa\")\n",
        "    fnRec( 5 )\n",
        "    print(\"Fin del programa\")\n",
        "\n",
        "main()"
      ],
      "execution_count": null,
      "outputs": [
        {
          "output_type": "stream",
          "text": [
            "Inicio del programa\n",
            "Stop\n",
            "1\n",
            "2\n",
            "3\n",
            "4\n",
            "5\n",
            "Fin del programa\n"
          ],
          "name": "stdout"
        }
      ]
    },
    {
      "cell_type": "code",
      "metadata": {
        "colab": {
          "base_uri": "https://localhost:8080/"
        },
        "id": "UNGmSTsUBgfk",
        "outputId": "022e010e-2193-403e-9cd7-e7786d8d9672"
      },
      "source": [
        "def printRev( x ):\n",
        "  if x > 0:\n",
        "    print( x )\n",
        "    printRev( x - 1 )\n",
        "\n",
        "printRev( 3 )"
      ],
      "execution_count": null,
      "outputs": [
        {
          "output_type": "stream",
          "text": [
            "3\n",
            "2\n",
            "1\n"
          ],
          "name": "stdout"
        }
      ]
    },
    {
      "cell_type": "code",
      "metadata": {
        "colab": {
          "base_uri": "https://localhost:8080/"
        },
        "id": "khBEqLRuIwse",
        "outputId": "f77d18fe-0137-4b7d-8d6e-6715c07ea684"
      },
      "source": [
        "def fibonacci( n ):\n",
        "  print(\"Llamada: \", n)\n",
        "  if n == 1 or n == 0:\n",
        "    return n\n",
        "  else:\n",
        "    return ( fibonacci(n - 1) + fibonacci(n - 2) )\n",
        "\n",
        "print(fibonacci(7))"
      ],
      "execution_count": 2,
      "outputs": [
        {
          "output_type": "stream",
          "text": [
            "Llamada:  7\n",
            "Llamada:  6\n",
            "Llamada:  5\n",
            "Llamada:  4\n",
            "Llamada:  3\n",
            "Llamada:  2\n",
            "Llamada:  1\n",
            "Llamada:  0\n",
            "Llamada:  1\n",
            "Llamada:  2\n",
            "Llamada:  1\n",
            "Llamada:  0\n",
            "Llamada:  3\n",
            "Llamada:  2\n",
            "Llamada:  1\n",
            "Llamada:  0\n",
            "Llamada:  1\n",
            "Llamada:  4\n",
            "Llamada:  3\n",
            "Llamada:  2\n",
            "Llamada:  1\n",
            "Llamada:  0\n",
            "Llamada:  1\n",
            "Llamada:  2\n",
            "Llamada:  1\n",
            "Llamada:  0\n",
            "Llamada:  5\n",
            "Llamada:  4\n",
            "Llamada:  3\n",
            "Llamada:  2\n",
            "Llamada:  1\n",
            "Llamada:  0\n",
            "Llamada:  1\n",
            "Llamada:  2\n",
            "Llamada:  1\n",
            "Llamada:  0\n",
            "Llamada:  3\n",
            "Llamada:  2\n",
            "Llamada:  1\n",
            "Llamada:  0\n",
            "Llamada:  1\n",
            "13\n"
          ],
          "name": "stdout"
        }
      ]
    },
    {
      "cell_type": "markdown",
      "metadata": {
        "id": "sUfLCIY9zUt7"
      },
      "source": [
        "# Merge Sort"
      ]
    },
    {
      "cell_type": "code",
      "metadata": {
        "id": "EgZS6J-GzTGn"
      },
      "source": [
        "def merge_sort (arreglo, izquierda , derecha):\n",
        "  if izquierda >= derecha:\n",
        "    return\n",
        "  \n",
        "  mitad = (izquierda + derecha)//2\n",
        "  mergue_sort(arreglo , izquierda , mitad)\n",
        "  merge_sort(arreglo, mitad + 1 , derecha )\n",
        "  print(\"Llamar Merge\")\n",
        "  merge(arreglo, izquierda, derecha, mitad)\n",
        "  #merge_sort(nums, 0 , len(nums - 1))"
      ],
      "execution_count": null,
      "outputs": []
    }
  ]
}