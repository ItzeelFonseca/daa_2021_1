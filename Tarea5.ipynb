{
  "nbformat": 4,
  "nbformat_minor": 0,
  "metadata": {
    "colab": {
      "name": "Tarea5.ipynb",
      "provenance": [],
      "authorship_tag": "ABX9TyObCyPtkcs+STp+/SOsGmxE",
      "include_colab_link": true
    },
    "kernelspec": {
      "name": "python3",
      "display_name": "Python 3"
    }
  },
  "cells": [
    {
      "cell_type": "markdown",
      "metadata": {
        "id": "view-in-github",
        "colab_type": "text"
      },
      "source": [
        "<a href=\"https://colab.research.google.com/github/ItzeelFonseca/daa_2021_1/blob/master/Tarea5.ipynb\" target=\"_parent\"><img src=\"https://colab.research.google.com/assets/colab-badge.svg\" alt=\"Open In Colab\"/></a>"
      ]
    },
    {
      "cell_type": "code",
      "metadata": {
        "id": "qwraC9VdN1BV",
        "outputId": "dd51d205-77aa-43f8-afd4-0e0cc8816812",
        "colab": {
          "base_uri": "https://localhost:8080/",
          "height": 357
        }
      },
      "source": [
        "from time import time\n",
        "def ejemplo1( n ):\n",
        "    start_time = time()\n",
        "    c = n + 1\n",
        "    d = c * n\n",
        "    e = n * n\n",
        "    total = c + e - d\n",
        "    print(f\"total={ total }\")\n",
        "    elapsed_time = time() - start_time\n",
        "    print(\"Tiempo transcurrido: %0.10f segundos.\" % elapsed_time)\n",
        "for entrada in range (100,1100,100):\n",
        "    ejemplo1( entrada )"
      ],
      "execution_count": 42,
      "outputs": [
        {
          "output_type": "stream",
          "text": [
            "total=1\n",
            "Tiempo transcurrido: 0.0022284985 segundos.\n",
            "total=1\n",
            "Tiempo transcurrido: 0.0000250340 segundos.\n",
            "total=1\n",
            "Tiempo transcurrido: 0.0005211830 segundos.\n",
            "total=1\n",
            "Tiempo transcurrido: 0.0001306534 segundos.\n",
            "total=1\n",
            "Tiempo transcurrido: 0.0001776218 segundos.\n",
            "total=1\n",
            "Tiempo transcurrido: 0.0001368523 segundos.\n",
            "total=1\n",
            "Tiempo transcurrido: 0.0001420975 segundos.\n",
            "total=1\n",
            "Tiempo transcurrido: 0.0001816750 segundos.\n",
            "total=1\n",
            "Tiempo transcurrido: 0.0001368523 segundos.\n",
            "total=1\n",
            "Tiempo transcurrido: 0.0001425743 segundos.\n"
          ],
          "name": "stdout"
        }
      ]
    },
    {
      "cell_type": "code",
      "metadata": {
        "id": "bZzJk5jSN5fa",
        "outputId": "ab391254-da38-48d1-8c1c-b8d99ce963fb",
        "colab": {
          "base_uri": "https://localhost:8080/",
          "height": 187
        }
      },
      "source": [
        "from time import time\n",
        "def ejemplo2( n ):\n",
        "    start_time = time()\n",
        "    contador = 0\n",
        "    for i in range( n ) :\n",
        "        for j in range( n ) :\n",
        "            contador += 1\n",
        "    elapsed_time =  time() - start_time\n",
        "    print(\"Tiempo transcurrido: %0.10f segundos.\" % elapsed_time)\n",
        "    return contador\n",
        "for entrada in range (100,1100,100):\n",
        "    ejemplo2( entrada )"
      ],
      "execution_count": 32,
      "outputs": [
        {
          "output_type": "stream",
          "text": [
            "Tiempo transcurrido: 0.0004565716 segundos.\n",
            "Tiempo transcurrido: 0.0018012524 segundos.\n",
            "Tiempo transcurrido: 0.0041060448 segundos.\n",
            "Tiempo transcurrido: 0.0076665878 segundos.\n",
            "Tiempo transcurrido: 0.0150613785 segundos.\n",
            "Tiempo transcurrido: 0.0242636204 segundos.\n",
            "Tiempo transcurrido: 0.0267927647 segundos.\n",
            "Tiempo transcurrido: 0.0423243046 segundos.\n",
            "Tiempo transcurrido: 0.0442769527 segundos.\n",
            "Tiempo transcurrido: 0.0540246964 segundos.\n"
          ],
          "name": "stdout"
        }
      ]
    },
    {
      "cell_type": "code",
      "metadata": {
        "id": "maZeljzzN7Zg",
        "outputId": "3a5d38a5-5b0d-4a0c-9094-117389175d2d",
        "colab": {
          "base_uri": "https://localhost:8080/",
          "height": 187
        }
      },
      "source": [
        "from time import time\n",
        "def ejemplo3( n ): # n=4\n",
        "    start_time = time()\n",
        "    x = n * 2 # x = 8\n",
        "    y = 0   # y = 0\n",
        "    for m in range( 100 ): #3\n",
        "        y = x - n   # y = 4\n",
        "    elapsed_time =  time() - start_time\n",
        "    print(\"Tiempo transcurrido: %0.10f segundos.\" % elapsed_time)\n",
        "    return y\n",
        "for entrada in range (100,1100,100):\n",
        "    ejemplo3( entrada )"
      ],
      "execution_count": 37,
      "outputs": [
        {
          "output_type": "stream",
          "text": [
            "Tiempo transcurrido: 0.0000061989 segundos.\n",
            "Tiempo transcurrido: 0.0000081062 segundos.\n",
            "Tiempo transcurrido: 0.0000088215 segundos.\n",
            "Tiempo transcurrido: 0.0000085831 segundos.\n",
            "Tiempo transcurrido: 0.0000088215 segundos.\n",
            "Tiempo transcurrido: 0.0000085831 segundos.\n",
            "Tiempo transcurrido: 0.0000083447 segundos.\n",
            "Tiempo transcurrido: 0.0000078678 segundos.\n",
            "Tiempo transcurrido: 0.0000081062 segundos.\n",
            "Tiempo transcurrido: 0.0000078678 segundos.\n"
          ],
          "name": "stdout"
        }
      ]
    },
    {
      "cell_type": "code",
      "metadata": {
        "id": "w1YHuEL4N_ne",
        "outputId": "cba11e0d-ac8a-4a6d-f7dc-8a5788d9dddf",
        "colab": {
          "base_uri": "https://localhost:8080/",
          "height": 187
        }
      },
      "source": [
        "from time import time\n",
        "def ejemplo4( n ):\n",
        "    start_time = time()\n",
        "    x = 3 * 3.1416 + n\n",
        "    y = x + 3 * 3 - n\n",
        "    z = x + y\n",
        "    elapsed_time =  time() - start_time\n",
        "    print(\"Tiempo transcurrido: %0.10f segundos.\" % elapsed_time)\n",
        "    return z\n",
        "for entrada in range (100,1100,100):\n",
        "    ejemplo4( entrada )"
      ],
      "execution_count": 35,
      "outputs": [
        {
          "output_type": "stream",
          "text": [
            "Tiempo transcurrido: 0.0000014305 segundos.\n",
            "Tiempo transcurrido: 0.0000011921 segundos.\n",
            "Tiempo transcurrido: 0.0000007153 segundos.\n",
            "Tiempo transcurrido: 0.0000011921 segundos.\n",
            "Tiempo transcurrido: 0.0000011921 segundos.\n",
            "Tiempo transcurrido: 0.0000021458 segundos.\n",
            "Tiempo transcurrido: 0.0000009537 segundos.\n",
            "Tiempo transcurrido: 0.0000009537 segundos.\n",
            "Tiempo transcurrido: 0.0000009537 segundos.\n",
            "Tiempo transcurrido: 0.0000007153 segundos.\n"
          ],
          "name": "stdout"
        }
      ]
    },
    {
      "cell_type": "code",
      "metadata": {
        "id": "iNtHOiwFOCKr",
        "outputId": "ec7a8407-4983-4fd4-cfd9-63e0796852f7",
        "colab": {
          "base_uri": "https://localhost:8080/",
          "height": 187
        }
      },
      "source": [
        "from time import time\n",
        "def ejemplo5( x ):\n",
        "    start_time = time()\n",
        "    n = 10\n",
        "    for j in range( 0 , x , 1 ):\n",
        "        n = j + n\n",
        "    elapsed_time = time() - start_time\n",
        "    print(\"Tiempo transcurrido: %0.10f segundos.\" % elapsed_time)\n",
        "    return n\n",
        "for entrada in range (100,1100,100):\n",
        "    ejemplo5( entrada )"
      ],
      "execution_count": 34,
      "outputs": [
        {
          "output_type": "stream",
          "text": [
            "Tiempo transcurrido: 0.0000069141 segundos.\n",
            "Tiempo transcurrido: 0.0000157356 segundos.\n",
            "Tiempo transcurrido: 0.0000240803 segundos.\n",
            "Tiempo transcurrido: 0.0000343323 segundos.\n",
            "Tiempo transcurrido: 0.0000350475 segundos.\n",
            "Tiempo transcurrido: 0.0000443459 segundos.\n",
            "Tiempo transcurrido: 0.0000524521 segundos.\n",
            "Tiempo transcurrido: 0.0000855923 segundos.\n",
            "Tiempo transcurrido: 0.0001375675 segundos.\n",
            "Tiempo transcurrido: 0.0000798702 segundos.\n"
          ],
          "name": "stdout"
        }
      ]
    },
    {
      "cell_type": "code",
      "metadata": {
        "id": "QQQsvUWlT3zm",
        "outputId": "574ed29b-7773-4264-cad9-eb5d0efa21a4",
        "colab": {
          "base_uri": "https://localhost:8080/",
          "height": 187
        }
      },
      "source": [
        "from time import time\n",
        "def ejemplo6( n ):\n",
        "    start_time = time()\n",
        "    data=[[[1 for x in range(n)] for x in range(n)] \n",
        "          for x in range(n)]\n",
        "    suma = 0\n",
        "    for d in range(n):\n",
        "        for r in range(n):\n",
        "            for c in range(n):\n",
        "                suma += data[d][r][c]\n",
        "    elapsed_time = time() - start_time\n",
        "    print(\"Tiempo transcurrido: %0.10f segundos.\" % elapsed_time)\n",
        "    return suma\n",
        "for entrada in range (100,1100,100):\n",
        "    ejemplo6( entrada )"
      ],
      "execution_count": 39,
      "outputs": [
        {
          "output_type": "stream",
          "text": [
            "Tiempo transcurrido: 0.1722304821 segundos.\n",
            "Tiempo transcurrido: 0.9816298485 segundos.\n",
            "Tiempo transcurrido: 3.6171960831 segundos.\n",
            "Tiempo transcurrido: 9.5509192944 segundos.\n",
            "Tiempo transcurrido: 21.9781780243 segundos.\n",
            "Tiempo transcurrido: 32.2245368958 segundos.\n",
            "Tiempo transcurrido: 52.1136918068 segundos.\n",
            "Tiempo transcurrido: 77.8334341049 segundos.\n",
            "Tiempo transcurrido: 112.0253221989 segundos.\n",
            "Tiempo transcurrido: 157.8546948433 segundos.\n"
          ],
          "name": "stdout"
        }
      ]
    }
  ]
}