{
  "nbformat": 4,
  "nbformat_minor": 0,
  "metadata": {
    "colab": {
      "name": "Tarea 2. Pilas.ipynb",
      "provenance": [],
      "collapsed_sections": [],
      "authorship_tag": "ABX9TyMpfs1U5gjQwABNKsA3jeGk",
      "include_colab_link": true
    },
    "kernelspec": {
      "name": "python3",
      "display_name": "Python 3"
    }
  },
  "cells": [
    {
      "cell_type": "markdown",
      "metadata": {
        "id": "view-in-github",
        "colab_type": "text"
      },
      "source": [
        "<a href=\"https://colab.research.google.com/github/ItzeelFonseca/daa_2021_1/blob/master/Tarea_2_Pilas.ipynb\" target=\"_parent\"><img src=\"https://colab.research.google.com/assets/colab-badge.svg\" alt=\"Open In Colab\"/></a>"
      ]
    },
    {
      "cell_type": "code",
      "metadata": {
        "id": "TgZD9ZKP4cgb"
      },
      "source": [
        "class Stack:\n",
        "  def __init__(self):\n",
        "    self.__datos=[]\n",
        "  \n",
        "  def is_empty(self):\n",
        "    return len(self.__datos)== 0\n",
        "  \n",
        "  def get_top(self):\n",
        "    return self.__datos[-1]\n",
        "\n",
        "  def pop (self):\n",
        "    return self.__datos.pop()\n",
        "  \n",
        "  def push (self, valor):\n",
        "    self.__datos.append(valor)\n",
        "\n",
        "  def get_lenght(self):\n",
        "    return len(self.__datos)\n",
        "\n",
        "  def to_string(self):\n",
        "    for ele in self.__datos [-1 : :-1]:\n",
        "      print(f\" { ele } \")\n"
      ],
      "execution_count": 155,
      "outputs": []
    },
    {
      "cell_type": "code",
      "metadata": {
        "id": "vsODDt8t4yV_",
        "outputId": "092c7b33-51c4-409d-a2e3-a4c21a936007",
        "colab": {
          "base_uri": "https://localhost:8080/",
          "height": 170
        }
      },
      "source": [
        "pila1=Stack()\n",
        "for c in \"System.out.println((({[[)}\":\n",
        "  if c in \"({[\":pila1.push(\"@\")\n",
        "  elif c in \")]}\": pila1.pop()\n",
        "\n",
        "print(f\"La pila está vacia? {pila1.is_empty()}\")\n",
        "print(f\"La pila tiene {pila1.get_lenght()} elementos\")\n",
        "pila1.to_string()\n",
        "#En este ejemplo, la cadena está \"desbalanceada\", pero si se ponen las llaves correctamente, la pila quedará vacía\n",
        "print(\"------------------------------\")\n",
        "#En el siguiente ejemplo, la cadena sí está balanceada y la pila queda vacía.\n",
        "pila2=Stack()\n",
        "for c in \"System.out.println(){}[]\":\n",
        "  if c in \"({[\":pila2.push(\"@\")\n",
        "  elif c in \")]}\": pila2.pop()\n",
        "\n",
        "print(f\"La pila está vacia? {pila2.is_empty()}\")\n",
        "print(f\"La pila tiene {pila2.get_lenght()} elementos\")\n",
        "pila2.to_string()"
      ],
      "execution_count": 183,
      "outputs": [
        {
          "output_type": "stream",
          "text": [
            "La pila está vacia? False\n",
            "La pila tiene 4 elementos\n",
            " @ \n",
            " @ \n",
            " @ \n",
            " @ \n",
            "------------------------------\n",
            "La pila está vacia? True\n",
            "La pila tiene 0 elementos\n"
          ],
          "name": "stdout"
        }
      ]
    }
  ]
}