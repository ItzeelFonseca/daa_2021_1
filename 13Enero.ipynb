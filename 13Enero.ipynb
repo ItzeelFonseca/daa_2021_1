{
  "nbformat": 4,
  "nbformat_minor": 0,
  "metadata": {
    "colab": {
      "name": "13Enero.ipynb",
      "provenance": [],
      "authorship_tag": "ABX9TyNbMmjC961ULEG5fhRM90n3",
      "include_colab_link": true
    },
    "kernelspec": {
      "name": "python3",
      "display_name": "Python 3"
    }
  },
  "cells": [
    {
      "cell_type": "markdown",
      "metadata": {
        "id": "view-in-github",
        "colab_type": "text"
      },
      "source": [
        "<a href=\"https://colab.research.google.com/github/ItzeelFonseca/daa_2021_1/blob/master/13Enero.ipynb\" target=\"_parent\"><img src=\"https://colab.research.google.com/assets/colab-badge.svg\" alt=\"Open In Colab\"/></a>"
      ]
    },
    {
      "cell_type": "code",
      "metadata": {
        "id": "ekoaX88xMPXa"
      },
      "source": [
        "class NodoArbol:\r\n",
        "    def __init__( self , dato ,  hijo_izq=None , hijo_der=None):\r\n",
        "        self.dato = dato\r\n",
        "        self.left = hijo_izq\r\n",
        "        self.right = hijo_der"
      ],
      "execution_count": 2,
      "outputs": []
    },
    {
      "cell_type": "markdown",
      "metadata": {
        "id": "_DZyibzCMUrg"
      },
      "source": [
        "# Árbol Binario de búsqueda\r\n",
        "Los nodos a la izq son menores a la raiz y los nodos a la derecha son mayores a la raiz.\r\n",
        "Pueden ser recorridos en: pre-orden, in-orden y post-orden."
      ]
    },
    {
      "cell_type": "code",
      "metadata": {
        "id": "kyGRJnSDSdQU"
      },
      "source": [
        "class BinarySearchTree:\r\n",
        "    def __init__(self):\r\n",
        "      self.__root= None\r\n",
        "\r\n",
        "    def insert( self, value):\r\n",
        "      if self.__root == None:\r\n",
        "        self.__root = NodoArbol(value,None,None)\r\n",
        "      else: \r\n",
        "        #preguntar si value es menor que root, de ser el caso,\r\n",
        "        #insertar a la izq. PERO puede ser el caso que el\r\n",
        "        #sub árbol izq ya tenga muchos elementos\r\n",
        "        self.__insert_nodo___(self.__root , value )\r\n",
        "\r\n",
        "    def __insert_nodo___(self, nodo, value):\r\n",
        "      if nodo.dato == value:\r\n",
        "        pass\r\n",
        "      elif value < nodo.dato: #si es true, va a la izquierda\r\n",
        "        if nodo.left == None: #si hay espacio en la izquierda, ahi entra\r\n",
        "          nodo.left = NodoArbol( value, None, None) #insertamos el nodo\r\n",
        "        else: \r\n",
        "          self.__insert_nodo___(nodo.left, value ) #buscar en sub arbol izq\r\n",
        "      else:\r\n",
        "        if nodo.right == None:\r\n",
        "          nodo.right == NodoArbol( value, None, None)\r\n",
        "        else: \r\n",
        "          self.__insert_nodo___(nodo.right, value )\r\n",
        "    def buscar ( self, value):\r\n",
        "      if self.__root == None:\r\n",
        "        return None\r\n",
        "      else: \r\n",
        "        #Haremos busqueda recursiva\r\n",
        "        return self.__busca_nodo(self.__root , value)\r\n",
        "\r\n",
        "    def __busca_nodo(self , nodo , value):\r\n",
        "      if nodo == None:\r\n",
        "        return None\r\n",
        "      elif nodo.dato == value:\r\n",
        "        return nodo.dato\r\n",
        "      elif value < nodo.dato: \r\n",
        "        return self.__busca_nodo( nodo.left, value)\r\n",
        "      else: \r\n",
        "        return self.__busca_nodo( nodo.right, value)\r\n",
        "\r\n",
        "    def transversal( self, format=\"inorden\"):\r\n",
        "      if format == \"inorden\": \r\n",
        "        self.__recorrido_in(self.__root)\r\n",
        "      elif format == \"preorden\":\r\n",
        "        self.__recorrido_pre(self.__root)\r\n",
        "      elif format == \"posorden\":\r\n",
        "        self.__recorrido_pos(self.__root)\r\n",
        "      else:\r\n",
        "        print(\"Formato de recorrido no válido\")\r\n",
        "    \r\n",
        "    def __recorrido_pre(self , nodo):\r\n",
        "      if nodo != None:\r\n",
        "        print(nodo.dato , end= \",\")\r\n",
        "        self.__recorrido_pre(nodo.left)\r\n",
        "        self.__recorrido_pre(nodo.right)\r\n",
        "\r\n",
        "    def __recorrido_in(self , nodo):\r\n",
        "      if nodo != None:\r\n",
        "        self.__recorrido_in(nodo.left)\r\n",
        "        print(nodo.dato , end= \",\")\r\n",
        "        self.__recorrido_in(nodo.right)\r\n",
        "\r\n",
        "    def __recorrido_pos(self , nodo):\r\n",
        "      if nodo != None:\r\n",
        "        self.__recorrido_pos(nodo.left)\r\n",
        "        self.__recorrido_pos(nodo.right)\r\n",
        "        print(nodo.dato , end= \",\")\r\n",
        "\r\n",
        "        "
      ],
      "execution_count": 17,
      "outputs": []
    },
    {
      "cell_type": "code",
      "metadata": {
        "id": "rPJ7PwlvcFLe",
        "colab": {
          "base_uri": "https://localhost:8080/"
        },
        "outputId": "ef2d4cc5-789e-428f-b41b-0b6a40990887"
      },
      "source": [
        "bst = BinarySearchTree()\r\n",
        "bst.insert(50)\r\n",
        "bst.insert(30)\r\n",
        "bst.insert(20)\r\n",
        "\r\n",
        "res = bst.buscar(30) # true o false?\r\n",
        "print(\"Dato: \"+ str(res))\r\n",
        "print( bst.buscar(40))\r\n",
        "\r\n",
        "print(\"\\nRecorrido pre: \")\r\n",
        "bst.transversal(format= \"preorden\")\r\n",
        "print(\"\\nRecorrido in: \")\r\n",
        "bst.transversal(format= \"inorden\")\r\n",
        "print(\"\\nRecorrido pos: \")\r\n",
        "bst.transversal(format= \"posorden\")"
      ],
      "execution_count": 18,
      "outputs": [
        {
          "output_type": "stream",
          "text": [
            "Dato: 30\n",
            "None\n",
            "\n",
            "Recorrido pre: \n",
            "50,30,20,\n",
            "Recorrido in: \n",
            "20,30,50,\n",
            "Recorrido pos: \n",
            "20,30,50,"
          ],
          "name": "stdout"
        }
      ]
    }
  ]
}